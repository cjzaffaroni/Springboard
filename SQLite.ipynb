{
 "cells": [
  {
   "cell_type": "code",
   "execution_count": 22,
   "id": "9c601da6",
   "metadata": {},
   "outputs": [],
   "source": [
    "#importing packages\n",
    "import pandas as pd\n",
    "from sqlalchemy import create_engine"
   ]
  },
  {
   "cell_type": "code",
   "execution_count": 23,
   "id": "357f342e",
   "metadata": {},
   "outputs": [],
   "source": [
    "#creating engine\n",
    "engine = create_engine('sqlite:///sqlite_db_pythonsqlite.db')"
   ]
  },
  {
   "cell_type": "code",
   "execution_count": 24,
   "id": "f4f87ef5",
   "metadata": {},
   "outputs": [],
   "source": [
    "#printing table names\n",
    "table_names = engine.table_names()\n",
    "print(table_names)"
   ]
  },
  {
   "cell_type": "code",
   "execution_count": 25,
   "id": "b748f32d",
   "metadata": {},
   "outputs": [],
   "source": [
    "#creating DataFrame for Q10\n",
    "df_revenue = pd.read_sql_query(\"select name, \\\n",
    "                                sum(case when memid = 0 then slots * guestcost else slots * membercost end) as revenue \\\n",
    "                                from Bookings \\\n",
    "                                left join Facilities \\\n",
    "                                using(facid) \\\n",
    "                                group by name \\\n",
    "                                having revenue < 1000;\", engine)"
   ]
  },
  {
   "cell_type": "code",
   "execution_count": 26,
   "id": "3e6b5432",
   "metadata": {},
   "outputs": [],
   "source": [
    "df_revenue.head()"
   ]
  },
  {
   "cell_type": "code",
   "execution_count": 13,
   "id": "533e3621",
   "metadata": {},
   "outputs": [],
   "source": [
    "def create_connection(db_file):\n",
    "    \"\"\" create a database connection to the SQLite database\n",
    "        specified by the db_file\n",
    "    :param db_file: database file\n",
    "    :return: Connection object or None\n",
    "    \"\"\"\n",
    "    conn = None\n",
    "    try:\n",
    "        conn = sqlite3.connect(db_file)\n",
    "        print(sqlite3.version)\n",
    "    except Error as e:\n",
    "        print(e)\n",
    " \n",
    "    return conn"
   ]
  },
  {
   "cell_type": "code",
   "execution_count": 14,
   "id": "21c73ab9",
   "metadata": {},
   "outputs": [],
   "source": [
    "def select_all_tasks(conn):\n",
    "    \"\"\"\n",
    "    Query all rows in the tasks table\n",
    "    :param conn: the Connection object\n",
    "    :return:\n",
    "    \"\"\"\n",
    "    cur = conn.cursor()\n",
    "    \n",
    "    query1 = \"\"\"\n",
    "        SELECT *\n",
    "        FROM FACILITIES\n",
    "        \"\"\"\n",
    "    cur.execute(query1)\n",
    " \n",
    "    rows = cur.fetchall()\n",
    " \n",
    "    for row in rows:\n",
    "        print(row)\n"
   ]
  },
  {
   "cell_type": "code",
   "execution_count": 9,
   "id": "d4ddbc69",
   "metadata": {},
   "outputs": [],
   "source": [
    "def main():\n",
    "    database = \"sqlite_db_pythonsqlite.db\"\n",
    " \n",
    "    # create a database connection\n",
    "    conn = create_connection(database)\n",
    "    with conn: \n",
    "        print(\"2. Query all tasks\")\n",
    "        select_all_tasks(conn)"
   ]
  },
  {
   "cell_type": "code",
   "execution_count": 10,
   "id": "ccb3a3ab",
   "metadata": {},
   "outputs": [],
   "source": [
    "if __name__ == '__main__':\n",
    "    main()\n"
   ]
  },
  {
   "cell_type": "code",
   "execution_count": null,
   "id": "e775acab",
   "metadata": {},
   "outputs": [],
   "source": []
  },
  {
   "cell_type": "code",
   "execution_count": null,
   "id": "fe5adf3e",
   "metadata": {},
   "outputs": [],
   "source": []
  }
 ],
 "metadata": {
  "kernelspec": {
   "display_name": "Python 3 (ipykernel)",
   "language": "python",
   "name": "python3"
  },
  "language_info": {
   "codemirror_mode": {
    "name": "ipython",
    "version": 3
   },
   "file_extension": ".py",
   "mimetype": "text/x-python",
   "name": "python",
   "nbconvert_exporter": "python",
   "pygments_lexer": "ipython3",
   "version": "3.8.16"
  }
 },
 "nbformat": 4,
 "nbformat_minor": 5
}
