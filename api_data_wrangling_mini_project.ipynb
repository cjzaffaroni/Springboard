{
 "cells": [
  {
   "cell_type": "markdown",
   "metadata": {},
   "source": [
    "This exercise will require you to pull some data from https://data.nasdaq.com/ (formerly Quandl API)."
   ]
  },
  {
   "cell_type": "markdown",
   "metadata": {},
   "source": [
    "As a first step, you will need to register a free account on the https://data.nasdaq.com/ website."
   ]
  },
  {
   "cell_type": "markdown",
   "metadata": {},
   "source": [
    "After you register, you will be provided with a unique API key, that you should store:\n",
    "\n",
    "*Note*: Use a `.env` file and put your key in there and `python-dotenv` to access it in this notebook. \n",
    "\n",
    "The code below uses a key that was used when generating this project but has since been deleted. Never submit your keys to source control. There is a `.env-example` file in this repository to illusrtate what you need. Copy that to a file called `.env` and use your own api key in that `.env` file. Make sure you also have a `.gitignore` file with a line for `.env` added to it. \n",
    "\n",
    "The standard Python gitignore is [here](https://github.com/github/gitignore/blob/master/Python.gitignore) you can just copy that. "
   ]
  },
  {
   "cell_type": "code",
   "execution_count": 14,
   "metadata": {},
   "outputs": [],
   "source": [
    "# get api key from your .env file\n",
    "#import os\n",
    "#from dotenv import load_dotenv\n",
    "\n",
    "#load_dotenv()\n",
    "#API_KEY = os.getenv('NASDAQ_API_KEY')\n",
    "\n",
    "#print(API_KEY)"
   ]
  },
  {
   "cell_type": "code",
   "execution_count": 46,
   "metadata": {},
   "outputs": [
    {
     "name": "stdout",
     "output_type": "stream",
     "text": [
      ""
     ]
    }
   ],
   "source": [
    "# tried a different approach to getting the API key because the previous method did not work for me, I commented\n",
    "# out the previous code box to use this one\n",
    "\n",
    "import os                                                                                                                                                                                                          \n",
    "from dotenv import load_dotenv\n",
    "from pathlib import Path\n",
    "load_dotenv(Path(\".../API_Mini_project/.env\"))\n",
    "API_KEY = os.getenv('NASDAQ_API_KEY')\n",
    "\n",
    "print(API_KEY)"
   ]
  },
  {
   "cell_type": "markdown",
   "metadata": {},
   "source": [
    "Nasdaq Data has a large number of data sources, but, unfortunately, most of them require a Premium subscription. Still, there are also a good number of free datasets."
   ]
  },
  {
   "cell_type": "markdown",
   "metadata": {},
   "source": [
    "For this mini project, we will focus on equities data from the Frankfurt Stock Exhange (FSE), which is available for free. We'll try and analyze the stock prices of a company called Carl Zeiss Meditec, which manufactures tools for eye examinations, as well as medical lasers for laser eye surgery: https://www.zeiss.com/meditec/int/home.html. The company is listed under the stock ticker AFX_X."
   ]
  },
  {
   "cell_type": "markdown",
   "metadata": {},
   "source": [
    "You can find the detailed Nasdaq Data API instructions here: https://docs.data.nasdaq.com/docs/in-depth-usage"
   ]
  },
  {
   "cell_type": "markdown",
   "metadata": {},
   "source": [
    "While there is a dedicated Python package for connecting to the Nasdaq API, we would prefer that you use the *requests* package, which can be easily downloaded using *pip* or *conda*. You can find the documentation for the package here: http://docs.python-requests.org/en/master/ "
   ]
  },
  {
   "cell_type": "markdown",
   "metadata": {},
   "source": [
    "Finally, apart from the *requests* package, you are encouraged to not use any third party Python packages, such as *pandas*, and instead focus on what's available in the Python Standard Library (the *collections* module might come in handy: https://pymotw.com/3/collections/).\n",
    "Also, since you won't have access to DataFrames, you are encouraged to us Python's native data structures - preferably dictionaries, though some questions can also be answered using lists.\n",
    "You can read more on these data structures here: https://docs.python.org/3/tutorial/datastructures.html"
   ]
  },
  {
   "cell_type": "markdown",
   "metadata": {},
   "source": [
    "Keep in mind that the JSON responses you will be getting from the API map almost one-to-one to Python's dictionaries. Unfortunately, they can be very nested, so make sure you read up on indexing dictionaries in the documentation provided above."
   ]
  },
  {
   "cell_type": "code",
   "execution_count": 47,
   "metadata": {},
   "outputs": [],
   "source": [
    "# First, import the relevant modules\n",
    "\n",
    "import requests"
   ]
  },
  {
   "cell_type": "markdown",
   "metadata": {},
   "source": [
    "Note: API's can change a bit with each version, for this exercise it is reccomended to use the nasdaq api at `https://data.nasdaq.com/api/v3/`. This is the same api as what used to be quandl so `https://www.quandl.com/api/v3/` should work too.\n",
    "\n",
    "Hint: We are looking for the `AFX_X` data on the `datasets/FSE/` dataset."
   ]
  },
  {
   "cell_type": "code",
   "execution_count": 53,
   "metadata": {},
   "outputs": [
    {
     "name": "stdout",
     "output_type": "stream",
     "text": [
      "dataset: {'id': 10095370, 'dataset_code': 'AFX_X', 'database_code': 'FSE', 'name': 'Carl Zeiss Meditec (AFX_X)', 'description': 'Stock Prices for Carl Zeiss Meditec (2020-11-02) from the Frankfurt Stock Exchange.<br><br>Trading System: Xetra<br><br>ISIN: DE0005313704', 'refreshed_at': '2020-12-01T14:48:09.907Z', 'newest_available_date': '2020-12-01', 'oldest_available_date': '2000-06-07', 'column_names': ['Date', 'Open', 'High', 'Low', 'Close', 'Change', 'Traded Volume', 'Turnover', 'Last Price of the Day', 'Daily Traded Units', 'Daily Turnover'], 'frequency': 'daily', 'type': 'Time Series', 'premium': False, 'limit': None, 'transform': None, 'column_index': None, 'start_date': '2020-12-01', 'end_date': '2020-12-01', 'data': [['2020-12-01', 112.2, 112.2, 111.5, 112.0, None, 51.0, 5703.0, None, None, None]], 'collapse': None, 'order': None, 'database_id': 6129}\n"
     ]
    }
   ],
   "source": [
    "# Now, call the Nasdaq API and pull out a small sample of the data (only one day) to get a glimpse\n",
    "# into the JSON structure that will be returned\n",
    "\n",
    "url = 'https://data.nasdaq.com/api/v3/datasets/FSE/AFX_X'\n",
    "oneday = {'start_date': '2020-12-01','end_date': '2020-12-01'}\n",
    "r = requests.get(url, params=oneday)\n",
    "json_data = r.json()\n",
    "for key, value in json_data.items():\n",
    "    print(key + ':', value)\n"
   ]
  },
  {
   "cell_type": "code",
   "execution_count": 4,
   "metadata": {},
   "outputs": [
    {
     "data": {
      "text/plain": [
       "{'dataset': {'id': 10095370,\n",
       "  'dataset_code': 'AFX_X',\n",
       "  'database_code': 'FSE',\n",
       "  'name': 'Carl Zeiss Meditec (AFX_X)',\n",
       "  'description': 'Stock Prices for Carl Zeiss Meditec (2020-11-02) from the Frankfurt Stock Exchange.<br><br>Trading System: Xetra<br><br>ISIN: DE0005313704',\n",
       "  'refreshed_at': '2020-12-01T14:48:09.907Z',\n",
       "  'newest_available_date': '2020-12-01',\n",
       "  'oldest_available_date': '2000-06-07',\n",
       "  'column_names': ['Date',\n",
       "   'Open',\n",
       "   'High',\n",
       "   'Low',\n",
       "   'Close',\n",
       "   'Change',\n",
       "   'Traded Volume',\n",
       "   'Turnover',\n",
       "   'Last Price of the Day',\n",
       "   'Daily Traded Units',\n",
       "   'Daily Turnover'],\n",
       "  'frequency': 'daily',\n",
       "  'type': 'Time Series',\n",
       "  'premium': False,\n",
       "  'limit': None,\n",
       "  'transform': None,\n",
       "  'column_index': None,\n",
       "  'start_date': '2021-01-03',\n",
       "  'end_date': '2020-12-01',\n",
       "  'data': [],\n",
       "  'collapse': None,\n",
       "  'order': None,\n",
       "  'database_id': 6129}}"
      ]
     },
     "execution_count": 4,
     "metadata": {},
     "output_type": "execute_result"
    }
   ],
   "source": [
    "# Inspect the JSON structure of the object you created, and take note of how nested it is,\n",
    "# as well as the overall structure\n",
    "\n"
   ]
  },
  {
   "cell_type": "markdown",
   "metadata": {},
   "source": [
    "These are your tasks for this mini project:\n",
    "\n",
    "1. Collect data from the Franfurt Stock Exchange, for the ticker AFX_X, for the whole year 2017 (keep in mind that the date format is YYYY-MM-DD).\n",
    "2. Convert the returned JSON object into a Python dictionary.\n",
    "3. Calculate what the highest and lowest opening prices were for the stock in this period.\n",
    "4. What was the largest change in any one day (based on High and Low price)?\n",
    "5. What was the largest change between any two days (based on Closing Price)?\n",
    "6. What was the average daily trading volume during this year?\n",
    "7. (Optional) What was the median trading volume during this year. (Note: you may need to implement your own function for calculating the median.)"
   ]
  },
  {
   "cell_type": "code",
   "execution_count": 54,
   "metadata": {},
   "outputs": [],
   "source": [
    "#create the url using database_code='FSE', dataset_code='AFX_X', start_date=2017-01-01 and end_date=2017-12-31\n",
    "\n",
    "url = 'https://data.nasdaq.com/api/v3/datasets/FSE/AFX_X'\n",
    "year = {'start_date': '2017-01-01','end_date': '2017-12-31'}\n",
    "r = requests.get(url, params=year)\n",
    "\n"
   ]
  },
  {
   "cell_type": "code",
   "execution_count": 56,
   "metadata": {},
   "outputs": [],
   "source": [
    "#convert json object into a python dictionary with json()\n",
    "\n",
    "json_data_2017 = r.json()\n"
   ]
  },
  {
   "cell_type": "code",
   "execution_count": 73,
   "metadata": {},
   "outputs": [
    {
     "name": "stdout",
     "output_type": "stream",
     "text": [
      "The highest opening price in 2017 was  53.11\n",
      "The lowest opening price in 2017 was  34.0\n"
     ]
    }
   ],
   "source": [
    "# Q3: Calculate what the highest and lowest opening prices were for the stock in this period.\n",
    "\n",
    "# Create 2 variables: high_price, low_price. Loop over the dictionary to extract 'High' and 'Low'\n",
    "\n",
    "# initialize the 2 variables first\n",
    "high_open, low_open = None, None\n",
    "\n",
    "#loop over the nested dictionary, extract daily close, and update it with high and low prices\n",
    "for daily in json_data_2017['dataset']['data']:\n",
    "    open = daily[1]\n",
    "    #skip the day when open isn't available\n",
    "    if open == None:\n",
    "        continue\n",
    "    if high_open == None:\n",
    "        high_open = open\n",
    "    # update high_open\n",
    "    else:\n",
    "        high_open = max(open, high_open)\n",
    "    if low_open == None:\n",
    "        low_open = open\n",
    "    #update low_open\n",
    "    else:\n",
    "        low_open = min(open, low_open)\n",
    "\n",
    "        \n",
    "\n",
    "#print the results of highest price and lowest price in 2017\n",
    "print('The highest opening price in 2017 was ', high_open)\n",
    "print('The lowest opening price in 2017 was ', low_open)\n",
    "\n"
   ]
  },
  {
   "cell_type": "code",
   "execution_count": 98,
   "metadata": {},
   "outputs": [
    {
     "name": "stdout",
     "output_type": "stream",
     "text": [
      "The largest percent change in 2017 was  6.5 %\n"
     ]
    }
   ],
   "source": [
    "# Q4: What was the largest change in any one day (based on High and Low price)?\n",
    "\n",
    "# Create a variable: lge_chg. Loop over the nested dictionary to extract the highest percent change considering\n",
    "# high and low prices.\n",
    "\n",
    "# initialize the variable first\n",
    "lge_chg = None\n",
    "\n",
    "#loop over the nested dictionary, extract daily close, and update it with high and low prices\n",
    "for daily in json_data_2017['dataset']['data']:\n",
    "    #skip the day when high or low isn't available\n",
    "    if daily[2] == None or daily[3] == None:\n",
    "        continue\n",
    "    #calculate daily change in percentage = (high / low) -1\n",
    "    chg = (((daily[2] / daily[3]) - 1)*100)\n",
    "    \n",
    "    if lge_chg == None:\n",
    "        lge_chg = chg\n",
    "    # update largest change to maximum value\n",
    "    else:\n",
    "        lge_chg = max(chg, lge_chg)\n",
    "\n",
    "#print result\n",
    "print('The largest percent change in 2017 was ',str(round(lge_chg,2)),'%')\n"
   ]
  },
  {
   "cell_type": "code",
   "execution_count": 95,
   "metadata": {},
   "outputs": [
    {
     "name": "stdout",
     "output_type": "stream",
     "text": [
      "The largest percent change of closing prices between 2 days is 6.12 %\n"
     ]
    }
   ],
   "source": [
    "# Q5: What was the largest change between any two days (based on Closing Price)?\n",
    "\n",
    "# Create variable 'lge' to capture the running percent change day-to-day\n",
    "# Create 2 variables: 'close_D0', 'close_D1'. Loop over the nested dictionary to extract the highest percent change\n",
    "# considering the closing price ('close_D1') and compare it to the previous day ('close_D0')\n",
    "\n",
    "# initialize the 3 variables first mentioned above\n",
    "lge, close_D0, close_D1 = None, None, None\n",
    "\n",
    "# loop over the nested dictionary and extract closing price D1\n",
    "for daily in json_data_2017['dataset']['data']:\n",
    "    # initialize close_D1 and make it equal to closing price D0\n",
    "    close_D0, close_D1 = close_D1, daily[4]\n",
    "    # skip if either close_D0 or close_D1 is None\n",
    "    if close_D0 == None or close_D1 == None:\n",
    "        continue\n",
    "    chg = ((close_D1/close_D0)-1)*100\n",
    "    # initialize lge to None\n",
    "    if lge == None:\n",
    "        lge = chg\n",
    "    # update lge to get the maximum value\n",
    "    else:\n",
    "        lge = max(chg, lge)\n",
    "\n",
    "\n",
    "\n",
    "print('The largest percent change of closing prices between 2 days is', str(round(lge,2)), '%')\n",
    "\n"
   ]
  },
  {
   "cell_type": "code",
   "execution_count": 99,
   "metadata": {},
   "outputs": [
    {
     "name": "stdout",
     "output_type": "stream",
     "text": [
      "The average daily trading volume for 2017 was 89124.0\n"
     ]
    }
   ],
   "source": [
    "# Q6: What was the average daily trading volume during this year?\n",
    "\n",
    "# First, extract daily trading volume and record running tot and count\n",
    "# Create 2 variables, total and count\n",
    "tot, count = 0,0\n",
    "\n",
    "# Loop over nested dictionary to obtain daily volume, keep the running tot and count, accordingly\n",
    "for daily in json_data_2017['dataset']['data']:\n",
    "    # initialize close_D1 and make it equal to closing price D0\n",
    "    vol = daily[6]\n",
    "    if vol != None:\n",
    "        tot += vol\n",
    "        count += 1\n",
    "\n",
    "# Calculate the average daily trading volume\n",
    "mean = tot / count\n",
    "\n",
    "print('The average daily trading volume for 2017 was', str(round(mean,0)))\n",
    "\n",
    "\n"
   ]
  },
  {
   "cell_type": "code",
   "execution_count": 119,
   "metadata": {},
   "outputs": [
    {
     "name": "stdout",
     "output_type": "stream",
     "text": [
      "The median trading volume in 2017 was 76286.0\n"
     ]
    }
   ],
   "source": [
    "# Q7: What was the median trading volume during this year?\n",
    "\n",
    "# Create a list from the nested dictionary to get daily trading volumes\n",
    "volume = [daily[6] for daily in json_data_2017['dataset']['data']]\n",
    "\n",
    "# Create median function\n",
    "def my_median(sample):\n",
    "    n = len(sample)\n",
    "    index = n // 2\n",
    "    # List with an odd number of observations\n",
    "    if n % 2:\n",
    "        return sorted(sample)[index]\n",
    "    # List with an even number of observations\n",
    "    return sum(sorted(sample)[index - 1:index + 1]) / 2\n",
    "\n",
    "# Print the median\n",
    "print('The median trading volume in 2017 was',my_median(volume))"
   ]
  },
  {
   "cell_type": "code",
   "execution_count": null,
   "metadata": {},
   "outputs": [],
   "source": []
  }
 ],
 "metadata": {
  "interpreter": {
   "hash": "7635eb1b9d0fe97add78a7368b6b431c09bb8ad5c42e437d64abdd99821c31ae"
  },
  "kernelspec": {
   "display_name": "Python 3 (ipykernel)",
   "language": "python",
   "name": "python3"
  },
  "language_info": {
   "codemirror_mode": {
    "name": "ipython",
    "version": 3
   },
   "file_extension": ".py",
   "mimetype": "text/x-python",
   "name": "python",
   "nbconvert_exporter": "python",
   "pygments_lexer": "ipython3",
   "version": "3.8.8"
  }
 },
 "nbformat": 4,
 "nbformat_minor": 4
}
